{
  "cells": [
    {
      "cell_type": "markdown",
      "metadata": {
        "id": "view-in-github",
        "colab_type": "text"
      },
      "source": [
        "<a href=\"https://colab.research.google.com/github/akashgawali13/Dialogue-summerizer-NLP/blob/main/Dialogue_Summarizer_.ipynb\" target=\"_parent\"><img src=\"https://colab.research.google.com/assets/colab-badge.svg\" alt=\"Open In Colab\"/></a>"
      ]
    },
    {
      "cell_type": "code",
      "source": [
        "# 1. Install Requirements\n",
        "!pip install transformers sentence-transformers nltk spacy fpdf streamlit -q\n",
        "!python -m nltk.downloader punkt\n",
        "!python -m nltk.downloader punkt_tab\n",
        "!python -m spacy download en_core_web_sm"
      ],
      "metadata": {
        "colab": {
          "base_uri": "https://localhost:8080/"
        },
        "id": "sUkYKaUqRpjy",
        "outputId": "e0177c42-f3dc-4838-9c5a-fdb230894902"
      },
      "execution_count": null,
      "outputs": [
        {
          "output_type": "stream",
          "name": "stdout",
          "text": [
            "  Preparing metadata (setup.py) ... \u001b[?25l\u001b[?25hdone\n",
            "\u001b[2K     \u001b[90m━━━━━━━━━━━━━━━━━━━━━━━━━━━━━━━━━━━━━━━━\u001b[0m \u001b[32m44.3/44.3 kB\u001b[0m \u001b[31m2.0 MB/s\u001b[0m eta \u001b[36m0:00:00\u001b[0m\n",
            "\u001b[2K   \u001b[90m━━━━━━━━━━━━━━━━━━━━━━━━━━━━━━━━━━━━━━━━\u001b[0m \u001b[32m10.1/10.1 MB\u001b[0m \u001b[31m56.0 MB/s\u001b[0m eta \u001b[36m0:00:00\u001b[0m\n",
            "\u001b[2K   \u001b[90m━━━━━━━━━━━━━━━━━━━━━━━━━━━━━━━━━━━━━━━━\u001b[0m \u001b[32m6.9/6.9 MB\u001b[0m \u001b[31m52.9 MB/s\u001b[0m eta \u001b[36m0:00:00\u001b[0m\n",
            "\u001b[2K   \u001b[90m━━━━━━━━━━━━━━━━━━━━━━━━━━━━━━━━━━━━━━━━\u001b[0m \u001b[32m363.4/363.4 MB\u001b[0m \u001b[31m3.3 MB/s\u001b[0m eta \u001b[36m0:00:00\u001b[0m\n",
            "\u001b[2K   \u001b[90m━━━━━━━━━━━━━━━━━━━━━━━━━━━━━━━━━━━━━━━━\u001b[0m \u001b[32m13.8/13.8 MB\u001b[0m \u001b[31m77.5 MB/s\u001b[0m eta \u001b[36m0:00:00\u001b[0m\n",
            "\u001b[2K   \u001b[90m━━━━━━━━━━━━━━━━━━━━━━━━━━━━━━━━━━━━━━━━\u001b[0m \u001b[32m24.6/24.6 MB\u001b[0m \u001b[31m59.9 MB/s\u001b[0m eta \u001b[36m0:00:00\u001b[0m\n",
            "\u001b[2K   \u001b[90m━━━━━━━━━━━━━━━━━━━━━━━━━━━━━━━━━━━━━━━━\u001b[0m \u001b[32m883.7/883.7 kB\u001b[0m \u001b[31m26.7 MB/s\u001b[0m eta \u001b[36m0:00:00\u001b[0m\n",
            "\u001b[2K   \u001b[90m━━━━━━━━━━━━━━━━━━━━━━━━━━━━━━━━━━━━━━━━\u001b[0m \u001b[32m664.8/664.8 MB\u001b[0m \u001b[31m2.8 MB/s\u001b[0m eta \u001b[36m0:00:00\u001b[0m\n",
            "\u001b[2K   \u001b[90m━━━━━━━━━━━━━━━━━━━━━━━━━━━━━━━━━━━━━━━━\u001b[0m \u001b[32m211.5/211.5 MB\u001b[0m \u001b[31m4.6 MB/s\u001b[0m eta \u001b[36m0:00:00\u001b[0m\n",
            "\u001b[2K   \u001b[90m━━━━━━━━━━━━━━━━━━━━━━━━━━━━━━━━━━━━━━━━\u001b[0m \u001b[32m56.3/56.3 MB\u001b[0m \u001b[31m9.9 MB/s\u001b[0m eta \u001b[36m0:00:00\u001b[0m\n",
            "\u001b[2K   \u001b[90m━━━━━━━━━━━━━━━━━━━━━━━━━━━━━━━━━━━━━━━━\u001b[0m \u001b[32m127.9/127.9 MB\u001b[0m \u001b[31m6.9 MB/s\u001b[0m eta \u001b[36m0:00:00\u001b[0m\n",
            "\u001b[2K   \u001b[90m━━━━━━━━━━━━━━━━━━━━━━━━━━━━━━━━━━━━━━━━\u001b[0m \u001b[32m207.5/207.5 MB\u001b[0m \u001b[31m6.4 MB/s\u001b[0m eta \u001b[36m0:00:00\u001b[0m\n",
            "\u001b[2K   \u001b[90m━━━━━━━━━━━━━━━━━━━━━━━━━━━━━━━━━━━━━━━━\u001b[0m \u001b[32m21.1/21.1 MB\u001b[0m \u001b[31m47.3 MB/s\u001b[0m eta \u001b[36m0:00:00\u001b[0m\n",
            "\u001b[2K   \u001b[90m━━━━━━━━━━━━━━━━━━━━━━━━━━━━━━━━━━━━━━━━\u001b[0m \u001b[32m79.1/79.1 kB\u001b[0m \u001b[31m6.7 MB/s\u001b[0m eta \u001b[36m0:00:00\u001b[0m\n",
            "\u001b[?25h  Building wheel for fpdf (setup.py) ... \u001b[?25l\u001b[?25hdone\n",
            "<frozen runpy>:128: RuntimeWarning: 'nltk.downloader' found in sys.modules after import of package 'nltk', but prior to execution of 'nltk.downloader'; this may result in unpredictable behaviour\n",
            "[nltk_data] Downloading package punkt to /root/nltk_data...\n",
            "[nltk_data]   Unzipping tokenizers/punkt.zip.\n",
            "<frozen runpy>:128: RuntimeWarning: 'nltk.downloader' found in sys.modules after import of package 'nltk', but prior to execution of 'nltk.downloader'; this may result in unpredictable behaviour\n",
            "[nltk_data] Downloading package punkt_tab to /root/nltk_data...\n",
            "[nltk_data]   Unzipping tokenizers/punkt_tab.zip.\n",
            "Collecting en-core-web-sm==3.8.0\n",
            "  Downloading https://github.com/explosion/spacy-models/releases/download/en_core_web_sm-3.8.0/en_core_web_sm-3.8.0-py3-none-any.whl (12.8 MB)\n",
            "\u001b[2K     \u001b[90m━━━━━━━━━━━━━━━━━━━━━━━━━━━━━━━━━━━━━━━\u001b[0m \u001b[32m12.8/12.8 MB\u001b[0m \u001b[31m104.5 MB/s\u001b[0m eta \u001b[36m0:00:00\u001b[0m\n",
            "\u001b[?25h\u001b[38;5;2m✔ Download and installation successful\u001b[0m\n",
            "You can now load the package via spacy.load('en_core_web_sm')\n",
            "\u001b[38;5;3m⚠ Restart to reload dependencies\u001b[0m\n",
            "If you are in a Jupyter or Colab notebook, you may need to restart Python in\n",
            "order to load all the package's dependencies. You can do this by selecting the\n",
            "'Restart kernel' or 'Restart runtime' option.\n"
          ]
        }
      ]
    },
    {
      "cell_type": "code",
      "source": [
        "# 2. Import Modules\n",
        "from transformers import pipeline\n",
        "from sentence_transformers import SentenceTransformer, util\n",
        "import nltk\n",
        "import spacy\n",
        "import re\n",
        "from fpdf import FPDF\n"
      ],
      "metadata": {
        "id": "pshxPehfSfOY"
      },
      "execution_count": null,
      "outputs": []
    },
    {
      "cell_type": "code",
      "source": [
        "# 3. Initialize Models\n",
        "summarizer = pipeline(\"summarization\", model=\"facebook/bart-large-cnn\")\n",
        "ner_model = spacy.load(\"en_core_web_sm\")\n",
        "sim_model = SentenceTransformer('all-MiniLM-L6-v2')"
      ],
      "metadata": {
        "colab": {
          "base_uri": "https://localhost:8080/",
          "height": 702,
          "referenced_widgets": [
            "604a010d4773472598d2ab944b6707c6",
            "480dc148f82d47bc8762136323a9f4c7",
            "6bc56d560a404471af54c31e3f33b8de",
            "7e9681c025f64f8097d7e1e0da51c15d",
            "134269d55362459d916c90c1957e73b8",
            "56aef5a540b44510b41eff18dcfe64fc",
            "d90ffe21257246199145f182549eb195",
            "548d5212b5854fb09f7181957d9da871",
            "c385a374add144f19591b6b78d02eead",
            "e4948ca741e443e98a2347fe3bd8e2d2",
            "6166bf0abc0746999232d85a94ee987d",
            "3905de81ea044ad19644eed6b28896cd",
            "eeb88ba42e5e4747b80fb32e70edad31",
            "12a1dc72d98844d1b2bc5cd4dd7a1805",
            "390e58a0072d405cae30dc4843ece458",
            "04efa0a8abb74fddaae5d7bd0ffc020e",
            "e67da7762d66492d940e077524b1c7ec",
            "94cf689411454905b5a5e792cc832699",
            "df4881e4f5494586adc4789589033f74",
            "3303b5b1f0a948de9b474817ff604a44",
            "d79d4ce8b1544658b7063dc6af6c943d",
            "e59260e6f9bc444e838fe878002199c9",
            "957a31109a514985ae6622da94d3ea0f",
            "b6608064dc9e48069616e2879b5deffe",
            "d7584a0cab194b57bbab65411c558b89",
            "f71287a095704bd89c4dfcaaeb148aa2",
            "a42f1c9b69714290a143da061b6889eb",
            "b53254f915b1472aa8500c5dd6cb7fea",
            "8c0e86df0613447d8d12b631183468d7",
            "f1d84d54a2bc4d9c885ab4619cde39d5",
            "36ccc221c4194eddb56a5603931311be",
            "d6f4c371f39948818b7a1ee40bf5aec7",
            "3d01c0a9f2a444789e140704daf4b13e",
            "c9cfaf43683d4408b88f3d66aae6da09",
            "68852589530244228ed51ce6f3d45e41",
            "01dbcea876ee4a37bbf1ca7083bce403",
            "7d3fc164b09d4f1f9d736d35403f186d",
            "5446d1cc58b44ac68e321519a13aa473",
            "13960ddadd2040bcabb8a299ba24e0a6",
            "24c15302c0334f64a1141da2ca98766e",
            "e9eefa88fb66406ca413e13cdedc3b8f",
            "af7cd7f00e5f40d18b117a8f93e6f832",
            "f258a48b75bd42c8bd4657ec2d46b19b",
            "653c284df9ff4c259ac433577fc84cef",
            "cec4f91b4a9a40c68fec0042715388aa",
            "2653034c3f664b44b003287b589ef5a8",
            "e8940435c9804feea0e2c1bdc02015c8",
            "91c345d63f564e6f8082e5d9680450ce",
            "bb9f8aa83280461e822bdf487e34ffa9",
            "cf9d334dd5c24a5ebd72a9ccf29bb31a",
            "3f58fa3fa55840078c7dabab1ffcd3e9",
            "6f275446377b4960bbbf39fc3321efeb",
            "95d3a0625bb8438b8eb87dccbba900c0",
            "de1936d95d494c19b9e35b61ea9d76b9",
            "86d64f5a97c24787ab997a97e52ddfe9",
            "d426245853124597add5c0750c91a82e",
            "f2e52ecb726347a0a97f0be68a53d135",
            "9c3f9d103150487e9604ee117f76c6fd",
            "cf2b5eccd6e74b8b830e3dbd670cdf8e",
            "856be91fcc134a1d896062a256c9eded",
            "6c8514d19ae9408d962aa0ad289f2461",
            "26a54774c42a4417bc2a6fc986d02e86",
            "9b55b51ce6e741b6bf148e546d3aa54c",
            "3f7991468f6e4215bcae7c35ba17fca7",
            "f6848591519e4a2ea87f7f5c0986998f",
            "1f22982d4a154ef994604060eeb7abac",
            "92e626d527c34a8281768a687f69a4cc",
            "d69e786735da48b6b590cb72afeb8374",
            "57c5d228299f451bb3598989069be6b6",
            "c5f74003e02e499396f30b0f4202a6d0",
            "6a8e55d3bf7d4bf8a76e80e93ce42193",
            "eb474f0294c64e7b8bd981fdf1c49372",
            "e99230ec5c524fb79196b675b3dae2a4",
            "eb1bfcc81c8544658ab3692528513590",
            "2bf336a91f80451095d107f9480cbced",
            "ef337ad892d04891b0461a98e21740b3",
            "7f1217c6177a46b1ba7c60cf9ca5f23b",
            "043075aa6dae4d96b2acb8b79d1adc3e",
            "13e5f87ae84b4abdb7edfb6a10525b02",
            "5d65cc9ee3324823a3ea88b2f0f4b6c9",
            "597cec9ae2e74afcb9a772b39b32392c",
            "8430457b2b424e65843a902b589bdb5f",
            "70e27875361d4e459ba8b87203e6ae22",
            "9dda51ff275044cc9fb63ffeb263d2db",
            "6467994910e240f9963f6ff60a589030",
            "f2345aaa469b4f498938540f481ce527",
            "c537dcb902ad4ecab866f939266af861",
            "ff34bd5e67b6411ea812296b7bd5e949",
            "a9acf563c3b340e9a333d830c196126c",
            "faad41c16b634a3d89e743e410e848d1",
            "21ef7b53d9524f26b1943918be789ea6",
            "eab539d0654d4fd98f2de806c91af627",
            "f199b0929475471b8f652ea4070df3ed",
            "3666867fe86b4f4f915f6a6d4ac3bb94",
            "4404289c19ed48a1b541bd5765d0f36f",
            "61de023368f348368d0cab78df57f550",
            "9d7936e921fd43b0b192444c10f8cbf1",
            "c4ccdb33f33c4b2d9ecacf25e0482f48",
            "d4050798d26a453eae5f1f947ca11242",
            "acbf6dc27f6c46b0bbb3bea48c60b52d",
            "158a89fcbe5646449e58c49f9dddd8e2",
            "c7eb0a8f5a3c479388316c30bd398a0e",
            "a102ae3d0ebb4073b2a8cf9bef0496b5",
            "a4f46127fa1a4c33af1171a53b9cc8fe",
            "c5a1fdae96f14a90bc90ffdc6bab6e1e",
            "6de085fcecc448688d18f9b196ca15fa",
            "5f74fea9b2d34ac0a4a2013015771abc",
            "7270cdab82394eec9b5a053eb1dc9dbc",
            "bd2e5afe82db4f0a85ab09af28b304ac",
            "895ee2be738547c29f38f535bd322541",
            "7b4e22e6ff594fd488f4438548cdf90b",
            "af704796bf734697afcd18f9c6557354",
            "4f949940820d466e9543792ec148019f",
            "24dc883a12534962bb9f17dfd2bffe81",
            "e2704ad9824743f38af1a426990be7b7",
            "065026f4645447e0b4839988f6ccfa41",
            "6365c61d7598491e835b3cfbf192017a",
            "2c70ee0f0da14597840569372450d884",
            "755ae0dc8f5741958af437c055786621",
            "b507e117cae74be3bb9ed59c30c4abe0",
            "a60ba4467936440e8f8dc8525857185f",
            "598a2183fffa415790bbb1c491c5f519",
            "154faa9d49c14017b3bd36227a926348",
            "5d7ab933757c413cbe3a51d87a0410a8",
            "4700c00fa8cd425a8cb759151b66de29",
            "f5fd94f2044a492c91f235b016528510",
            "1a34b2a2a6784765bcb6d9f8a4dbbfcb",
            "d34e1cafb9334f3981319c65a291a90c",
            "b090b82da7aa4b7d93d63cf323e45756",
            "f6a1156c5f164d3d8289547155e00c64",
            "3b1d675403224054a288de88be9663f1",
            "f37e95c799a04f88a4ed5aa6f476890a",
            "3407055df0a54098bea2b7e4696dd54e",
            "d6bae0cda87145feb4c37d1e91264f05",
            "721ff1b6e4ef48eead8f711a2faf89f4",
            "eddd4973e0e64d4ca500d6c4eb69c084",
            "c5f7a2ba359143a190e14ba21d7eb9f8",
            "491f439e411949c1b6f5ffbec801d796",
            "7ae10e42e44f4456a6d689848e06f2dc",
            "fd6c83c5b9664e6195a3fc28ff8b783a",
            "a8a7cf6d42964c26a410b632f90313e3",
            "82c28e4ef3ad44359f46b43974c3e5db",
            "3e97af13c51a43fab2c6dbc9ff48ad55",
            "65d0cf3901cd4f61b09c70ac1cc016fa",
            "f41dddc0dac14e8ab76ed69ffdd9683e",
            "7aea9a7ebf5b42e6ab7a347dbefde630",
            "5d9d9bcdbddc47e7acdeed5be30a3dd7",
            "717111825bf14bf3bc8397a0b02189ad",
            "86b643b3e5e7408c95dfc59442a2921f",
            "9896cee1d8f94fbf8c00998945f3e7c1",
            "7ecb68a356f04535aade1385bc78496b",
            "a4c29cf236f644c5aef640530831f88c",
            "10ea739b5b4447948d5a2792146f3d7a",
            "3e9355ecd45c4448bab99c9def9e5afd",
            "962d8348581d4d0eb154735e64624ab7",
            "18499c6852eb431fa794fd01da7a3ee1",
            "9a78ee595ccb46c9b65332e4b75409b8",
            "6fe1b89a84fa41d9adc3efb51d26d952",
            "9d1a2f9485d74503a5289117a847693e",
            "d866a411ce4b4e348a9d899b3bdab4ee",
            "0211f470b1d546e1944dd80ce1efed9d",
            "14449dd51d7d40028f68252920f6515e",
            "a05f6a8839794a6e83b9b0b18eac9126",
            "63d8803d11c54fa78357d7dbf69d3bcc",
            "b84ecf78e058452899b79c23a4b06dbb",
            "d572416847a94214b41e4bf90dd12eef",
            "6b584a0ad3e148fd82b5894fcc6659da",
            "c7216502030341779d458622f6cee2ed",
            "e3a9173216464157871aecc4ffedfad8",
            "4b0053aaebd84247aa4441f66dd34340",
            "0a2eea4a89b543949d26c56bfd49c0da",
            "fdb274ee770a429993906f4d6e59117c",
            "0fb4dd520ad54a4fb72fbe26ed0f5633",
            "020f1b8ac3a948c5b1ac311982457ff2",
            "eca9ef6695074e76932cae17e16fe43a",
            "b30209c456c74156b5b3773914c2a13d",
            "4625b4eb383148568b0402f288706fc8",
            "3bb3c464410145fd99e519c12a5f579a",
            "baf7742fd0e84f55b0d97ba4c75d4cac",
            "7c9d6acc24f74d3995827ecf6be7895e",
            "ebcc4ac84ab2429f969a59172d930dbc",
            "dd5f7c5acd514b5bbd3272a9e901d95f",
            "64bc75eddd1644e1bca0d7e7a7b53c52",
            "c4c3bd2ab3d5468f9c79128e7dd101f6",
            "1837ea26135d4984bef43632ba74f877",
            "7c1f9f1d27f64c89b597bd4498834edc",
            "94e1eea0c62f4152b100d8aad4100f96"
          ]
        },
        "id": "HaZ5o1a0TSOo",
        "outputId": "32bc8950-a461-46bb-db71-9efe50b531ac"
      },
      "execution_count": null,
      "outputs": [
        {
          "output_type": "stream",
          "name": "stderr",
          "text": [
            "/usr/local/lib/python3.11/dist-packages/huggingface_hub/utils/_auth.py:94: UserWarning: \n",
            "The secret `HF_TOKEN` does not exist in your Colab secrets.\n",
            "To authenticate with the Hugging Face Hub, create a token in your settings tab (https://huggingface.co/settings/tokens), set it as secret in your Google Colab and restart your session.\n",
            "You will be able to reuse this secret in all of your notebooks.\n",
            "Please note that authentication is recommended but still optional to access public models or datasets.\n",
            "  warnings.warn(\n"
          ]
        },
        {
          "output_type": "display_data",
          "data": {
            "text/plain": [
              "config.json: 0.00B [00:00, ?B/s]"
            ],
            "application/vnd.jupyter.widget-view+json": {
              "version_major": 2,
              "version_minor": 0,
              "model_id": "604a010d4773472598d2ab944b6707c6"
            }
          },
          "metadata": {}
        },
        {
          "output_type": "display_data",
          "data": {
            "text/plain": [
              "model.safetensors:   0%|          | 0.00/1.63G [00:00<?, ?B/s]"
            ],
            "application/vnd.jupyter.widget-view+json": {
              "version_major": 2,
              "version_minor": 0,
              "model_id": "3905de81ea044ad19644eed6b28896cd"
            }
          },
          "metadata": {}
        },
        {
          "output_type": "display_data",
          "data": {
            "text/plain": [
              "generation_config.json:   0%|          | 0.00/363 [00:00<?, ?B/s]"
            ],
            "application/vnd.jupyter.widget-view+json": {
              "version_major": 2,
              "version_minor": 0,
              "model_id": "957a31109a514985ae6622da94d3ea0f"
            }
          },
          "metadata": {}
        },
        {
          "output_type": "display_data",
          "data": {
            "text/plain": [
              "vocab.json: 0.00B [00:00, ?B/s]"
            ],
            "application/vnd.jupyter.widget-view+json": {
              "version_major": 2,
              "version_minor": 0,
              "model_id": "c9cfaf43683d4408b88f3d66aae6da09"
            }
          },
          "metadata": {}
        },
        {
          "output_type": "display_data",
          "data": {
            "text/plain": [
              "merges.txt: 0.00B [00:00, ?B/s]"
            ],
            "application/vnd.jupyter.widget-view+json": {
              "version_major": 2,
              "version_minor": 0,
              "model_id": "cec4f91b4a9a40c68fec0042715388aa"
            }
          },
          "metadata": {}
        },
        {
          "output_type": "display_data",
          "data": {
            "text/plain": [
              "tokenizer.json: 0.00B [00:00, ?B/s]"
            ],
            "application/vnd.jupyter.widget-view+json": {
              "version_major": 2,
              "version_minor": 0,
              "model_id": "d426245853124597add5c0750c91a82e"
            }
          },
          "metadata": {}
        },
        {
          "output_type": "stream",
          "name": "stderr",
          "text": [
            "Device set to use cpu\n"
          ]
        },
        {
          "output_type": "display_data",
          "data": {
            "text/plain": [
              "modules.json:   0%|          | 0.00/349 [00:00<?, ?B/s]"
            ],
            "application/vnd.jupyter.widget-view+json": {
              "version_major": 2,
              "version_minor": 0,
              "model_id": "92e626d527c34a8281768a687f69a4cc"
            }
          },
          "metadata": {}
        },
        {
          "output_type": "display_data",
          "data": {
            "text/plain": [
              "config_sentence_transformers.json:   0%|          | 0.00/116 [00:00<?, ?B/s]"
            ],
            "application/vnd.jupyter.widget-view+json": {
              "version_major": 2,
              "version_minor": 0,
              "model_id": "043075aa6dae4d96b2acb8b79d1adc3e"
            }
          },
          "metadata": {}
        },
        {
          "output_type": "display_data",
          "data": {
            "text/plain": [
              "README.md: 0.00B [00:00, ?B/s]"
            ],
            "application/vnd.jupyter.widget-view+json": {
              "version_major": 2,
              "version_minor": 0,
              "model_id": "a9acf563c3b340e9a333d830c196126c"
            }
          },
          "metadata": {}
        },
        {
          "output_type": "display_data",
          "data": {
            "text/plain": [
              "sentence_bert_config.json:   0%|          | 0.00/53.0 [00:00<?, ?B/s]"
            ],
            "application/vnd.jupyter.widget-view+json": {
              "version_major": 2,
              "version_minor": 0,
              "model_id": "acbf6dc27f6c46b0bbb3bea48c60b52d"
            }
          },
          "metadata": {}
        },
        {
          "output_type": "display_data",
          "data": {
            "text/plain": [
              "config.json:   0%|          | 0.00/612 [00:00<?, ?B/s]"
            ],
            "application/vnd.jupyter.widget-view+json": {
              "version_major": 2,
              "version_minor": 0,
              "model_id": "7b4e22e6ff594fd488f4438548cdf90b"
            }
          },
          "metadata": {}
        },
        {
          "output_type": "display_data",
          "data": {
            "text/plain": [
              "model.safetensors:   0%|          | 0.00/90.9M [00:00<?, ?B/s]"
            ],
            "application/vnd.jupyter.widget-view+json": {
              "version_major": 2,
              "version_minor": 0,
              "model_id": "598a2183fffa415790bbb1c491c5f519"
            }
          },
          "metadata": {}
        },
        {
          "output_type": "display_data",
          "data": {
            "text/plain": [
              "tokenizer_config.json:   0%|          | 0.00/350 [00:00<?, ?B/s]"
            ],
            "application/vnd.jupyter.widget-view+json": {
              "version_major": 2,
              "version_minor": 0,
              "model_id": "3407055df0a54098bea2b7e4696dd54e"
            }
          },
          "metadata": {}
        },
        {
          "output_type": "display_data",
          "data": {
            "text/plain": [
              "vocab.txt: 0.00B [00:00, ?B/s]"
            ],
            "application/vnd.jupyter.widget-view+json": {
              "version_major": 2,
              "version_minor": 0,
              "model_id": "65d0cf3901cd4f61b09c70ac1cc016fa"
            }
          },
          "metadata": {}
        },
        {
          "output_type": "display_data",
          "data": {
            "text/plain": [
              "tokenizer.json: 0.00B [00:00, ?B/s]"
            ],
            "application/vnd.jupyter.widget-view+json": {
              "version_major": 2,
              "version_minor": 0,
              "model_id": "962d8348581d4d0eb154735e64624ab7"
            }
          },
          "metadata": {}
        },
        {
          "output_type": "display_data",
          "data": {
            "text/plain": [
              "special_tokens_map.json:   0%|          | 0.00/112 [00:00<?, ?B/s]"
            ],
            "application/vnd.jupyter.widget-view+json": {
              "version_major": 2,
              "version_minor": 0,
              "model_id": "d572416847a94214b41e4bf90dd12eef"
            }
          },
          "metadata": {}
        },
        {
          "output_type": "display_data",
          "data": {
            "text/plain": [
              "config.json:   0%|          | 0.00/190 [00:00<?, ?B/s]"
            ],
            "application/vnd.jupyter.widget-view+json": {
              "version_major": 2,
              "version_minor": 0,
              "model_id": "4625b4eb383148568b0402f288706fc8"
            }
          },
          "metadata": {}
        }
      ]
    },
    {
      "cell_type": "code",
      "source": [
        "# 4. Preprocessing\n",
        "def preprocess_transcript(text):\n",
        "    lines = [line.strip() for line in text.strip().split('\\n') if line.strip()]\n",
        "    dialogues = []\n",
        "    for line in lines:\n",
        "        match = re.match(r\"(\\w+):\\s+(.*)\", line)\n",
        "        if match:\n",
        "            speaker, content = match.groups()\n",
        "            dialogues.append((speaker, content))\n",
        "    return dialogues"
      ],
      "metadata": {
        "id": "a2ca6kvETVqP"
      },
      "execution_count": null,
      "outputs": []
    },
    {
      "cell_type": "code",
      "source": [
        "# 5. Summarization (supports multilingual model switch)\n",
        "def summarize_chunks(dialogues, max_bullets=5, lang='en'):\n",
        "    chunk_text = \" \".join([f\"{s}: {t}\" for s, t in dialogues])\n",
        "    if lang != 'en':\n",
        "        summarizer_local = pipeline(\"summarization\", model=\"csebuetnlp/mT5_multilingual_XLSum\")\n",
        "        summary = summarizer_local(chunk_text, max_length=256, min_length=50, do_sample=False)[0]['summary_text']\n",
        "    else:\n",
        "        summary = summarizer(chunk_text, max_length=200, min_length=30, do_sample=False)[0]['summary_text']\n",
        "    bullets = nltk.sent_tokenize(summary)\n",
        "    return bullets[:max_bullets]"
      ],
      "metadata": {
        "id": "6Q59KVx0TYHY"
      },
      "execution_count": null,
      "outputs": []
    },
    {
      "cell_type": "code",
      "source": [
        "# 6. Redundancy Removal\n",
        "def remove_redundant(bullets):\n",
        "    embeddings = sim_model.encode(bullets, convert_to_tensor=True)\n",
        "    filtered = []\n",
        "    for i, b in enumerate(bullets):\n",
        "        if all(util.pytorch_cos_sim(embeddings[i], sim_model.encode(f)).item() < 0.8 for f in filtered):\n",
        "            filtered.append(b)\n",
        "    return filtered\n"
      ],
      "metadata": {
        "id": "1mIoPVNbTZhI"
      },
      "execution_count": null,
      "outputs": []
    },
    {
      "cell_type": "code",
      "source": [
        "# 7. Named Entity Recognition\n",
        "def extract_entities(text):\n",
        "    doc = ner_model(text)\n",
        "    return [(ent.text, ent.label_) for ent in doc.ents]"
      ],
      "metadata": {
        "id": "0FFEuUHjTblI"
      },
      "execution_count": null,
      "outputs": []
    },
    {
      "cell_type": "code",
      "source": [
        "# 8. Action Item Extraction (rule-based)\n",
        "def extract_actions(dialogues):\n",
        "    actions = []\n",
        "    for speaker, sentence in dialogues:\n",
        "        if re.search(r\"\\b(should|let's|need to|must|have to|please)\\b\", sentence, re.I):\n",
        "            actions.append(f\"{speaker}: {sentence}\")\n",
        "    return actions"
      ],
      "metadata": {
        "id": "7KZ65UYuTc7g"
      },
      "execution_count": null,
      "outputs": []
    },
    {
      "cell_type": "code",
      "source": [
        "# 9. Export to PDF\n",
        "def export_to_pdf(bullets, actions, filename='summary.pdf'):\n",
        "    pdf = FPDF()\n",
        "    pdf.add_page()\n",
        "    pdf.set_font(\"Arial\", size=12)\n",
        "    pdf.cell(200, 10, txt=\"Conversation Summary\", ln=True, align='C')\n",
        "\n",
        "    pdf.set_font(\"Arial\", 'B', 12)\n",
        "    pdf.cell(200, 10, txt=\"Summary Bullets:\", ln=True)\n",
        "    pdf.set_font(\"Arial\", size=12)\n",
        "    for bullet in bullets:\n",
        "        pdf.multi_cell(0, 10, f\"• {bullet}\")\n",
        "\n",
        "    pdf.set_font(\"Arial\", 'B', 12)\n",
        "    pdf.cell(200, 10, txt=\"Action Items:\", ln=True)\n",
        "    pdf.set_font(\"Arial\", size=12)\n",
        "    for action in actions:\n",
        "        pdf.multi_cell(0, 10, f\"- {action}\")\n",
        "\n",
        "    pdf.output(filename)"
      ],
      "metadata": {
        "id": "sLHkDWRfTeY3"
      },
      "execution_count": null,
      "outputs": []
    },
    {
      "cell_type": "code",
      "source": [
        "# 10. Export to Markdown\n",
        "def export_to_md(bullets, actions, filename='summary.md'):\n",
        "    with open(filename, 'w') as f:\n",
        "        f.write(\"# Conversation Summary\\n\\n## Bullet Points:\\n\")\n",
        "        for b in bullets:\n",
        "            f.write(f\"- {b}\\n\")\n",
        "        f.write(\"\\n## Action Items:\\n\")\n",
        "        for a in actions:\n",
        "            f.write(f\"- {a}\\n\")\n"
      ],
      "metadata": {
        "id": "YJR5qVNvTf8G"
      },
      "execution_count": null,
      "outputs": []
    },
    {
      "cell_type": "code",
      "source": [
        "# 11. Real-time Simulation\n",
        "def simulate_real_time(dialogue_stream, interval=2):\n",
        "    import time\n",
        "    history = []\n",
        "    print(\"Real-time summary running... Press Ctrl+C to stop.\")\n",
        "    try:\n",
        "        while dialogue_stream:\n",
        "            new_line = dialogue_stream.pop(0)\n",
        "            history.append(new_line)\n",
        "            summary = summarize_chunks(history)\n",
        "            summary = remove_redundant(summary)\n",
        "            print(\"\\n[REAL-TIME SUMMARY UPDATE]\")\n",
        "            for s in summary:\n",
        "                print(f\"• {s}\")\n",
        "            time.sleep(interval)\n",
        "    except KeyboardInterrupt:\n",
        "        print(\"\\nStopped.\")\n"
      ],
      "metadata": {
        "id": "ePd-SejwThfS"
      },
      "execution_count": null,
      "outputs": []
    },
    {
      "cell_type": "code",
      "source": [
        "\n",
        "# 12. Demo Input\n",
        "sample = \"\"\"\n",
        "Emma: Good morning everyone. Let’s start with updates on the onboarding module.\n",
        "Liam: Sure. We’ve completed the walkthrough flow for new users, but the welcome email logic still needs testing.\n",
        "Sophia: I tested it last night—emails are firing but the template has alignment issues.\n",
        "Olivia: I’ll ask the design team to review the email template today.\n",
        "Emma: Great. Please prioritize it so we can push it to staging by tomorrow.\n",
        "Noah: Speaking of staging, the backup service failed during last night’s run. I’ll investigate and share a report by noon.\n",
        "Liam: Was any data lost?\n",
        "Noah: No, but we need to double-check the auto-recovery mechanism.\n",
        "Sophia: I’ll coordinate with DevOps on that.\n",
        "Emma: Please do. Now, about the analytics dashboard—what’s the status?\n",
        "Olivia: The charts are loading fine, but the filtering isn’t working as expected.\n",
        "Liam: I’ll debug that after lunch and update the issue ticket.\n",
        "Emma: Thank you. We also have the partner integration with FinBank due next week.\n",
        "Noah: Their API sandbox credentials were received yesterday. I’ll start testing the endpoints this afternoon.\n",
        "Emma: Excellent. Please document anything odd in Postman and share it.\n",
        "Sophia: Do we need to update the privacy policy due to this integration?\n",
        "Emma: Yes, good point. Let’s review the policy draft on Thursday.\n",
        "Liam: I’ll check with Legal and get their feedback by Wednesday.\n",
        "Olivia: Quick note—the UI team needs a response on the login screen animation concept.\n",
        "Emma: I saw it. Looks slick but feels heavy. Let’s simplify it.\n",
        "Noah: I can reduce frame size and re-export it in Lottie format.\n",
        "Emma: Perfect. Target for Friday?\n",
        "Noah: Yes, doable.\n",
        "Sophia: Also, we need to align on the Q3 hiring plan. The data team is understaffed.\n",
        "Emma: Let’s schedule a 1-hour planning session on Monday.\n",
        "Olivia: Can we invite HR to that call?\n",
        "Emma: Absolutely. Include Priya from HR.\n",
        "Liam: Oh, I almost forgot—Slack notifications for deployments aren’t triggering.\n",
        "Noah: I’ll check the webhook setup today.\n",
        "Emma: Thank you. Anything else?\n",
        "Sophia: Should we reschedule the product demo with TechNova? Their PM was on leave.\n",
        "Emma: Yes, move it to next Wednesday. Send a calendar update.\n",
        "Olivia: I’ll handle that.\n",
        "Emma: Lastly, reminder: performance reviews are due next Friday. Submit yours by EOD Tuesday.\n",
        "Noah: Got it.\n",
        "Liam: Acknowledged.\n",
        "Sophia: Noted.\n",
        "Olivia: Thanks, Emma.\n",
        "\n",
        "\n",
        "\"\"\"\n"
      ],
      "metadata": {
        "id": "kNIGH2mzVLvh"
      },
      "execution_count": null,
      "outputs": []
    },
    {
      "cell_type": "code",
      "source": [
        "\n",
        "# 13. Run Pipeline\n",
        "dialogues = preprocess_transcript(sample)\n",
        "bullets = summarize_chunks(dialogues, max_bullets=5)\n",
        "bullets = remove_redundant(bullets)\n",
        "actions = extract_actions(dialogues)\n",
        "entities = extract_entities(sample)\n"
      ],
      "metadata": {
        "colab": {
          "base_uri": "https://localhost:8080/"
        },
        "id": "xppCIuHByXYD",
        "outputId": "7887f1a6-c65a-4924-cea7-49ff51411912"
      },
      "execution_count": null,
      "outputs": [
        {
          "output_type": "stream",
          "name": "stderr",
          "text": [
            "Your max_length is set to 200, but your input_length is only 3. Since this is a summarization task, where outputs shorter than the input are typically wanted, you might consider decreasing max_length manually, e.g. summarizer('...', max_length=1)\n"
          ]
        }
      ]
    },
    {
      "cell_type": "code",
      "source": [
        "# 14. Display Output\n",
        "print(\"\\n--- SUMMARY BULLETS ---\")\n",
        "for b in bullets:\n",
        "    print(f\"• {b}\")\n",
        "\n",
        "print(\"\\n--- ACTION ITEMS ---\")\n",
        "for a in actions:\n",
        "    print(f\"- {a}\")\n",
        "\n",
        "print(\"\\n--- NAMED ENTITIES ---\")\n",
        "for ent, label in entities:\n",
        "    print(f\"[{label}] {ent}\")"
      ],
      "metadata": {
        "colab": {
          "base_uri": "https://localhost:8080/"
        },
        "id": "GhhOfUlnyZkL",
        "outputId": "7e9a4d9c-b9ad-4b1a-e2fe-195fb876d606"
      },
      "execution_count": null,
      "outputs": [
        {
          "output_type": "stream",
          "name": "stdout",
          "text": [
            "\n",
            "--- SUMMARY BULLETS ---\n",
            "• CNN.com will feature iReporter photos in a weekly Travel Snapshots gallery.\n",
            "• Please submit your best shots of New York for next week.\n",
            "• Visit CNN.com/Travel next Wednesday for a new gallery of snapshots.\n",
            "\n",
            "--- ACTION ITEMS ---\n",
            "\n",
            "--- NAMED ENTITIES ---\n",
            "[TIME] morning\n",
            "[TIME] last night\n",
            "[PERSON] Olivia\n",
            "[DATE] today\n",
            "[PERSON] Emma\n",
            "[DATE] tomorrow\n",
            "[PERSON] Noah\n",
            "[TIME] last night\n",
            "[TIME] noon\n",
            "[PERSON] Liam\n",
            "[PERSON] Noah\n",
            "[ORG] DevOps\n",
            "[PERSON] Emma\n",
            "[PERSON] Olivia\n",
            "[PERSON] Liam\n",
            "[PERSON] Emma\n",
            "[ORG] FinBank\n",
            "[DATE] next week\n",
            "[PERSON] Noah\n",
            "[DATE] yesterday\n",
            "[TIME] this afternoon\n",
            "[PERSON] Emma\n",
            "[LOC] Postman\n",
            "[PERSON] Emma\n",
            "[DATE] Thursday\n",
            "[PERSON] Liam\n",
            "[ORG] Legal\n",
            "[DATE] Wednesday\n",
            "[ORG] Olivia: Quick\n",
            "[ORG] UI\n",
            "[PERSON] Emma\n",
            "[PERSON] Noah\n",
            "[PERSON] Lottie\n",
            "[PERSON] Emma\n",
            "[ORG] Target\n",
            "[DATE] Friday\n",
            "[PERSON] Noah\n",
            "[PRODUCT] Q3\n",
            "[PERSON] Emma\n",
            "[TIME] 1-hour\n",
            "[DATE] Monday\n",
            "[PERSON] Olivia\n",
            "[PERSON] Emma\n",
            "[PERSON] Liam\n",
            "[PERSON] Noah\n",
            "[DATE] today\n",
            "[PERSON] Emma\n",
            "[PRODUCT] TechNova\n",
            "[PERSON] Emma\n",
            "[DATE] next Wednesday\n",
            "[PERSON] Olivia\n",
            "[PERSON] Emma\n",
            "[DATE] next Friday\n",
            "[ORG] EOD\n",
            "[DATE] Tuesday\n",
            "[PERSON] Noah\n",
            "[PERSON] Olivia\n",
            "[PERSON] Emma\n"
          ]
        }
      ]
    },
    {
      "cell_type": "code",
      "source": [],
      "metadata": {
        "id": "tTS35s7IHzUq"
      },
      "execution_count": null,
      "outputs": []
    }
  ],
  "metadata": {
    "colab": {
      "provenance": [],
      "include_colab_link": true
    },
    "kernelspec": {
      "display_name": "Python 3",
      "name": "python3"
    }
  },
  "nbformat": 4,
  "nbformat_minor": 0
}